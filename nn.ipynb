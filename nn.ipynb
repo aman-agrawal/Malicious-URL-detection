{
 "cells": [
  {
   "cell_type": "code",
   "execution_count": 1,
   "metadata": {},
   "outputs": [],
   "source": [
    "import pandas as pd\n",
    "import numpy as np\n",
    "import matplotlib.pyplot as plt"
   ]
  },
  {
   "cell_type": "code",
   "execution_count": 2,
   "metadata": {},
   "outputs": [],
   "source": [
    "original_data = pd.read_csv(\"final_data6.csv\")\n",
    "data = pd.read_csv(\"preprocessed.csv\")\n",
    "label =  data.pop(\"label\")\n",
    "url_name = data.pop(\"url_name\")\n",
    "# data.fillna(0, inplace=True)"
   ]
  },
  {
   "cell_type": "code",
   "execution_count": 3,
   "metadata": {},
   "outputs": [
    {
     "data": {
      "text/html": [
       "<div>\n",
       "<style scoped>\n",
       "    .dataframe tbody tr th:only-of-type {\n",
       "        vertical-align: middle;\n",
       "    }\n",
       "\n",
       "    .dataframe tbody tr th {\n",
       "        vertical-align: top;\n",
       "    }\n",
       "\n",
       "    .dataframe thead th {\n",
       "        text-align: right;\n",
       "    }\n",
       "</style>\n",
       "<table border=\"1\" class=\"dataframe\">\n",
       "  <thead>\n",
       "    <tr style=\"text-align: right;\">\n",
       "      <th></th>\n",
       "      <th>url_length</th>\n",
       "      <th>special_character_count</th>\n",
       "      <th>dns_response_time</th>\n",
       "      <th>handshake_time</th>\n",
       "      <th>data_time</th>\n",
       "      <th>data_length</th>\n",
       "      <th>scripts_count</th>\n",
       "      <th>iframe_count</th>\n",
       "      <th>external_link_count</th>\n",
       "      <th>total_strings_count</th>\n",
       "      <th>...</th>\n",
       "      <th>server_name_nginx/1.14.0</th>\n",
       "      <th>server_name_nginx/1.14.0 (Ubuntu)</th>\n",
       "      <th>server_name_nginx/1.14.1</th>\n",
       "      <th>server_name_nginx/1.14.2</th>\n",
       "      <th>server_name_nginx/1.15.6</th>\n",
       "      <th>server_name_nginx/1.4.6 (Ubuntu)</th>\n",
       "      <th>server_name_openresty</th>\n",
       "      <th>server_name_server_name_nan</th>\n",
       "      <th>server_name_server_name_single</th>\n",
       "      <th>server_name_tsa_k</th>\n",
       "    </tr>\n",
       "  </thead>\n",
       "  <tbody>\n",
       "    <tr>\n",
       "      <th>0</th>\n",
       "      <td>27</td>\n",
       "      <td>2</td>\n",
       "      <td>1.866579</td>\n",
       "      <td>809.915781</td>\n",
       "      <td>185.235262</td>\n",
       "      <td>301912.0</td>\n",
       "      <td>8.0</td>\n",
       "      <td>6.0</td>\n",
       "      <td>73.0</td>\n",
       "      <td>26397.0</td>\n",
       "      <td>...</td>\n",
       "      <td>0</td>\n",
       "      <td>0</td>\n",
       "      <td>0</td>\n",
       "      <td>0</td>\n",
       "      <td>0</td>\n",
       "      <td>0</td>\n",
       "      <td>0</td>\n",
       "      <td>0</td>\n",
       "      <td>0</td>\n",
       "      <td>1</td>\n",
       "    </tr>\n",
       "    <tr>\n",
       "      <th>1</th>\n",
       "      <td>12</td>\n",
       "      <td>2</td>\n",
       "      <td>654.555559</td>\n",
       "      <td>3379.443407</td>\n",
       "      <td>799.807549</td>\n",
       "      <td>162844.0</td>\n",
       "      <td>33.0</td>\n",
       "      <td>0.0</td>\n",
       "      <td>18.0</td>\n",
       "      <td>9289.0</td>\n",
       "      <td>...</td>\n",
       "      <td>0</td>\n",
       "      <td>0</td>\n",
       "      <td>0</td>\n",
       "      <td>0</td>\n",
       "      <td>0</td>\n",
       "      <td>0</td>\n",
       "      <td>0</td>\n",
       "      <td>0</td>\n",
       "      <td>0</td>\n",
       "      <td>0</td>\n",
       "    </tr>\n",
       "    <tr>\n",
       "      <th>2</th>\n",
       "      <td>92</td>\n",
       "      <td>12</td>\n",
       "      <td>57.567120</td>\n",
       "      <td>2735.617161</td>\n",
       "      <td>29.102325</td>\n",
       "      <td>129957.0</td>\n",
       "      <td>55.0</td>\n",
       "      <td>2.0</td>\n",
       "      <td>58.0</td>\n",
       "      <td>22093.0</td>\n",
       "      <td>...</td>\n",
       "      <td>0</td>\n",
       "      <td>0</td>\n",
       "      <td>0</td>\n",
       "      <td>0</td>\n",
       "      <td>0</td>\n",
       "      <td>0</td>\n",
       "      <td>0</td>\n",
       "      <td>0</td>\n",
       "      <td>0</td>\n",
       "      <td>0</td>\n",
       "    </tr>\n",
       "    <tr>\n",
       "      <th>3</th>\n",
       "      <td>24</td>\n",
       "      <td>3</td>\n",
       "      <td>1.390219</td>\n",
       "      <td>1009.941101</td>\n",
       "      <td>0.138521</td>\n",
       "      <td>3453.0</td>\n",
       "      <td>1.0</td>\n",
       "      <td>0.0</td>\n",
       "      <td>1.0</td>\n",
       "      <td>8.0</td>\n",
       "      <td>...</td>\n",
       "      <td>0</td>\n",
       "      <td>0</td>\n",
       "      <td>1</td>\n",
       "      <td>0</td>\n",
       "      <td>0</td>\n",
       "      <td>0</td>\n",
       "      <td>0</td>\n",
       "      <td>0</td>\n",
       "      <td>0</td>\n",
       "      <td>0</td>\n",
       "    </tr>\n",
       "    <tr>\n",
       "      <th>4</th>\n",
       "      <td>29</td>\n",
       "      <td>2</td>\n",
       "      <td>1.077890</td>\n",
       "      <td>6096.054077</td>\n",
       "      <td>350.750208</td>\n",
       "      <td>204520.0</td>\n",
       "      <td>85.0</td>\n",
       "      <td>4.0</td>\n",
       "      <td>41.0</td>\n",
       "      <td>8248.0</td>\n",
       "      <td>...</td>\n",
       "      <td>0</td>\n",
       "      <td>0</td>\n",
       "      <td>0</td>\n",
       "      <td>0</td>\n",
       "      <td>0</td>\n",
       "      <td>0</td>\n",
       "      <td>0</td>\n",
       "      <td>0</td>\n",
       "      <td>0</td>\n",
       "      <td>0</td>\n",
       "    </tr>\n",
       "  </tbody>\n",
       "</table>\n",
       "<p>5 rows × 92 columns</p>\n",
       "</div>"
      ],
      "text/plain": [
       "   url_length  special_character_count  dns_response_time  handshake_time  \\\n",
       "0          27                        2           1.866579      809.915781   \n",
       "1          12                        2         654.555559     3379.443407   \n",
       "2          92                       12          57.567120     2735.617161   \n",
       "3          24                        3           1.390219     1009.941101   \n",
       "4          29                        2           1.077890     6096.054077   \n",
       "\n",
       "    data_time  data_length  scripts_count  iframe_count  external_link_count  \\\n",
       "0  185.235262     301912.0            8.0           6.0                 73.0   \n",
       "1  799.807549     162844.0           33.0           0.0                 18.0   \n",
       "2   29.102325     129957.0           55.0           2.0                 58.0   \n",
       "3    0.138521       3453.0            1.0           0.0                  1.0   \n",
       "4  350.750208     204520.0           85.0           4.0                 41.0   \n",
       "\n",
       "   total_strings_count  ...  server_name_nginx/1.14.0  \\\n",
       "0              26397.0  ...                         0   \n",
       "1               9289.0  ...                         0   \n",
       "2              22093.0  ...                         0   \n",
       "3                  8.0  ...                         0   \n",
       "4               8248.0  ...                         0   \n",
       "\n",
       "   server_name_nginx/1.14.0 (Ubuntu)  server_name_nginx/1.14.1  \\\n",
       "0                                  0                         0   \n",
       "1                                  0                         0   \n",
       "2                                  0                         0   \n",
       "3                                  0                         1   \n",
       "4                                  0                         0   \n",
       "\n",
       "   server_name_nginx/1.14.2  server_name_nginx/1.15.6  \\\n",
       "0                         0                         0   \n",
       "1                         0                         0   \n",
       "2                         0                         0   \n",
       "3                         0                         0   \n",
       "4                         0                         0   \n",
       "\n",
       "   server_name_nginx/1.4.6 (Ubuntu)  server_name_openresty  \\\n",
       "0                                 0                      0   \n",
       "1                                 0                      0   \n",
       "2                                 0                      0   \n",
       "3                                 0                      0   \n",
       "4                                 0                      0   \n",
       "\n",
       "   server_name_server_name_nan  server_name_server_name_single  \\\n",
       "0                            0                               0   \n",
       "1                            0                               0   \n",
       "2                            0                               0   \n",
       "3                            0                               0   \n",
       "4                            0                               0   \n",
       "\n",
       "   server_name_tsa_k  \n",
       "0                  1  \n",
       "1                  0  \n",
       "2                  0  \n",
       "3                  0  \n",
       "4                  0  \n",
       "\n",
       "[5 rows x 92 columns]"
      ]
     },
     "execution_count": 3,
     "metadata": {},
     "output_type": "execute_result"
    }
   ],
   "source": [
    "data.head()"
   ]
  },
  {
   "cell_type": "code",
   "execution_count": null,
   "metadata": {},
   "outputs": [],
   "source": []
  },
  {
   "cell_type": "code",
   "execution_count": 4,
   "metadata": {},
   "outputs": [],
   "source": [
    "from sklearn.neural_network import MLPClassifier\n",
    "from sklearn.model_selection import train_test_split\n",
    "from scipy.interpolate import interp1d\n",
    "from sklearn import preprocessing\n",
    "from sklearn.metrics import confusion_matrix\n",
    "\n",
    "data = data.interpolate()\n",
    "label = preprocessing.LabelBinarizer().fit(label).transform(label)\n",
    "\n",
    "X_train, X_test, y_train, y_test = train_test_split(data, label, test_size=0.33)  "
   ]
  },
  {
   "cell_type": "code",
   "execution_count": 5,
   "metadata": {},
   "outputs": [
    {
     "name": "stdout",
     "output_type": "stream",
     "text": [
      "(1218, 92)\n",
      "(601, 92)\n"
     ]
    }
   ],
   "source": [
    "print(X_train.shape)\n",
    "print(X_test.shape)"
   ]
  },
  {
   "cell_type": "code",
   "execution_count": 6,
   "metadata": {},
   "outputs": [
    {
     "name": "stderr",
     "output_type": "stream",
     "text": [
      "/home/archit/.local/lib/python3.6/site-packages/sklearn/neural_network/multilayer_perceptron.py:916: DataConversionWarning: A column-vector y was passed when a 1d array was expected. Please change the shape of y to (n_samples, ), for example using ravel().\n",
      "  y = column_or_1d(y, warn=True)\n"
     ]
    },
    {
     "data": {
      "text/plain": [
       "0.8618968386023295"
      ]
     },
     "execution_count": 6,
     "metadata": {},
     "output_type": "execute_result"
    }
   ],
   "source": [
    "clf = MLPClassifier(solver='lbfgs', alpha=1e-5,hidden_layer_sizes=(50, 2), random_state=1)\n",
    "clf.fit(X_train , y_train)\n",
    "pred = clf.predict(X_test)\n",
    "clf.score(X_test , y_test)"
   ]
  },
  {
   "cell_type": "code",
   "execution_count": 7,
   "metadata": {},
   "outputs": [
    {
     "name": "stdout",
     "output_type": "stream",
     "text": [
      "              precision    recall  f1-score   support\n",
      "\n",
      "           0       0.41      0.43      0.42        70\n",
      "           1       0.92      0.92      0.92       531\n",
      "\n",
      "   micro avg       0.86      0.86      0.86       601\n",
      "   macro avg       0.67      0.67      0.67       601\n",
      "weighted avg       0.86      0.86      0.86       601\n",
      "\n"
     ]
    }
   ],
   "source": [
    "from sklearn.metrics import classification_report\n",
    "\n",
    "print(classification_report(y_test, pred))\n"
   ]
  },
  {
   "cell_type": "code",
   "execution_count": 8,
   "metadata": {},
   "outputs": [
    {
     "data": {
      "text/plain": [
       "array([[ 30,  43],\n",
       "       [ 40, 488]])"
      ]
     },
     "execution_count": 8,
     "metadata": {},
     "output_type": "execute_result"
    }
   ],
   "source": [
    "confusion_matrix(pred, y_test)"
   ]
  },
  {
   "cell_type": "markdown",
   "metadata": {},
   "source": [
    "## whois data "
   ]
  },
  {
   "cell_type": "code",
   "execution_count": 36,
   "metadata": {},
   "outputs": [],
   "source": [
    "import whois\n",
    "import os\n",
    "import subprocess\n",
    "import re"
   ]
  },
  {
   "cell_type": "code",
   "execution_count": 19,
   "metadata": {
    "scrolled": true
   },
   "outputs": [
    {
     "name": "stdout",
     "output_type": "stream",
     "text": [
      "twitter.com/aQuariusrecOrds\n",
      "{'name': 'twitter.com', 'registrar': 'CSC Corporate Domains, Inc.', 'creation_date': datetime.datetime(2000, 1, 21, 16, 28, 17), 'expiration_date': datetime.datetime(2020, 1, 21, 16, 28, 17), 'last_updated': datetime.datetime(2018, 12, 7, 19, 32, 35), 'name_servers': {'ns3.p34.dynect.net', 'd01-02.ns.twtrdns.net', 'd.r06.twtrdns.net', 'a.r06.twtrdns.net', 'ns4.p34.dynect.net', 'b.r06.twtrdns.net', 'd01-01.ns.twtrdns.net', 'c.r06.twtrdns.net'}}\n",
      "tong464.org/\n"
     ]
    },
    {
     "ename": "ValueError",
     "evalue": "Unknown date format: 'registrar: wild west domains, llc'",
     "output_type": "error",
     "traceback": [
      "\u001b[0;31m---------------------------------------------------------------------------\u001b[0m",
      "\u001b[0;31mValueError\u001b[0m                                Traceback (most recent call last)",
      "\u001b[0;32m<ipython-input-19-1a7185e35a67>\u001b[0m in \u001b[0;36m<module>\u001b[0;34m()\u001b[0m\n\u001b[1;32m      2\u001b[0m     \u001b[0mprint\u001b[0m\u001b[0;34m(\u001b[0m\u001b[0murl\u001b[0m\u001b[0;34m)\u001b[0m\u001b[0;34m\u001b[0m\u001b[0m\n\u001b[1;32m      3\u001b[0m     \u001b[0murl\u001b[0m \u001b[0;34m=\u001b[0m  \u001b[0murl\u001b[0m\u001b[0;34m.\u001b[0m\u001b[0msplit\u001b[0m\u001b[0;34m(\u001b[0m\u001b[0;34m\"/\"\u001b[0m\u001b[0;34m)\u001b[0m\u001b[0;34m[\u001b[0m\u001b[0;36m0\u001b[0m\u001b[0;34m]\u001b[0m\u001b[0;34m\u001b[0m\u001b[0m\n\u001b[0;32m----> 4\u001b[0;31m     \u001b[0mdomain\u001b[0m \u001b[0;34m=\u001b[0m \u001b[0mwhois\u001b[0m\u001b[0;34m.\u001b[0m\u001b[0mquery\u001b[0m\u001b[0;34m(\u001b[0m\u001b[0murl\u001b[0m\u001b[0;34m)\u001b[0m\u001b[0;34m\u001b[0m\u001b[0m\n\u001b[0m\u001b[1;32m      5\u001b[0m     \u001b[0mprint\u001b[0m\u001b[0;34m(\u001b[0m\u001b[0mdomain\u001b[0m\u001b[0;34m.\u001b[0m\u001b[0m__dict__\u001b[0m\u001b[0;34m)\u001b[0m\u001b[0;34m\u001b[0m\u001b[0m\n",
      "\u001b[0;32m~/anaconda3/lib/python3.6/site-packages/whois/__init__.py\u001b[0m in \u001b[0;36mquery\u001b[0;34m(domain, force, cache_file, slow_down, ignore_returncode)\u001b[0m\n\u001b[1;32m     52\u001b[0m                 \u001b[0;32melse\u001b[0m\u001b[0;34m:\u001b[0m \u001b[0;32mbreak\u001b[0m\u001b[0;34m\u001b[0m\u001b[0m\n\u001b[1;32m     53\u001b[0m \u001b[0;34m\u001b[0m\u001b[0m\n\u001b[0;32m---> 54\u001b[0;31m         \u001b[0;32mreturn\u001b[0m \u001b[0mDomain\u001b[0m\u001b[0;34m(\u001b[0m\u001b[0mpd\u001b[0m\u001b[0;34m)\u001b[0m \u001b[0;32mif\u001b[0m \u001b[0mpd\u001b[0m\u001b[0;34m[\u001b[0m\u001b[0;34m'domain_name'\u001b[0m\u001b[0;34m]\u001b[0m\u001b[0;34m[\u001b[0m\u001b[0;36m0\u001b[0m\u001b[0;34m]\u001b[0m \u001b[0;32melse\u001b[0m \u001b[0;32mNone\u001b[0m\u001b[0;34m\u001b[0m\u001b[0m\n\u001b[0m\u001b[1;32m     55\u001b[0m \u001b[0;34m\u001b[0m\u001b[0m\n\u001b[1;32m     56\u001b[0m \u001b[0;34m\u001b[0m\u001b[0m\n",
      "\u001b[0;32m~/anaconda3/lib/python3.6/site-packages/whois/_3_adjust.py\u001b[0m in \u001b[0;36m__init__\u001b[0;34m(self, data)\u001b[0m\n\u001b[1;32m     13\u001b[0m                 \u001b[0mself\u001b[0m\u001b[0;34m.\u001b[0m\u001b[0mregistrar\u001b[0m                  \u001b[0;34m=\u001b[0m \u001b[0mdata\u001b[0m\u001b[0;34m[\u001b[0m\u001b[0;34m'registrar'\u001b[0m\u001b[0;34m]\u001b[0m\u001b[0;34m[\u001b[0m\u001b[0;36m0\u001b[0m\u001b[0;34m]\u001b[0m\u001b[0;34m.\u001b[0m\u001b[0mstrip\u001b[0m\u001b[0;34m(\u001b[0m\u001b[0;34m)\u001b[0m\u001b[0;34m\u001b[0m\u001b[0m\n\u001b[1;32m     14\u001b[0m                 \u001b[0mself\u001b[0m\u001b[0;34m.\u001b[0m\u001b[0mcreation_date\u001b[0m              \u001b[0;34m=\u001b[0m \u001b[0mstr_to_date\u001b[0m\u001b[0;34m(\u001b[0m\u001b[0mdata\u001b[0m\u001b[0;34m[\u001b[0m\u001b[0;34m'creation_date'\u001b[0m\u001b[0;34m]\u001b[0m\u001b[0;34m[\u001b[0m\u001b[0;36m0\u001b[0m\u001b[0;34m]\u001b[0m\u001b[0;34m)\u001b[0m\u001b[0;34m\u001b[0m\u001b[0m\n\u001b[0;32m---> 15\u001b[0;31m                 \u001b[0mself\u001b[0m\u001b[0;34m.\u001b[0m\u001b[0mexpiration_date\u001b[0m    \u001b[0;34m=\u001b[0m \u001b[0mstr_to_date\u001b[0m\u001b[0;34m(\u001b[0m\u001b[0mdata\u001b[0m\u001b[0;34m[\u001b[0m\u001b[0;34m'expiration_date'\u001b[0m\u001b[0;34m]\u001b[0m\u001b[0;34m[\u001b[0m\u001b[0;36m0\u001b[0m\u001b[0;34m]\u001b[0m\u001b[0;34m)\u001b[0m\u001b[0;34m\u001b[0m\u001b[0m\n\u001b[0m\u001b[1;32m     16\u001b[0m                 \u001b[0mself\u001b[0m\u001b[0;34m.\u001b[0m\u001b[0mlast_updated\u001b[0m               \u001b[0;34m=\u001b[0m \u001b[0mstr_to_date\u001b[0m\u001b[0;34m(\u001b[0m\u001b[0mdata\u001b[0m\u001b[0;34m[\u001b[0m\u001b[0;34m'updated_date'\u001b[0m\u001b[0;34m]\u001b[0m\u001b[0;34m[\u001b[0m\u001b[0;36m0\u001b[0m\u001b[0;34m]\u001b[0m\u001b[0;34m)\u001b[0m\u001b[0;34m\u001b[0m\u001b[0m\n\u001b[1;32m     17\u001b[0m \u001b[0;34m\u001b[0m\u001b[0m\n",
      "\u001b[0;32m~/anaconda3/lib/python3.6/site-packages/whois/_3_adjust.py\u001b[0m in \u001b[0;36mstr_to_date\u001b[0;34m(s)\u001b[0m\n\u001b[1;32m     86\u001b[0m                 \u001b[0;32mexcept\u001b[0m \u001b[0mValueError\u001b[0m \u001b[0;32mas\u001b[0m \u001b[0me\u001b[0m\u001b[0;34m:\u001b[0m \u001b[0;32mpass\u001b[0m\u001b[0;34m\u001b[0m\u001b[0m\n\u001b[1;32m     87\u001b[0m \u001b[0;34m\u001b[0m\u001b[0m\n\u001b[0;32m---> 88\u001b[0;31m         \u001b[0;32mraise\u001b[0m \u001b[0mValueError\u001b[0m\u001b[0;34m(\u001b[0m\u001b[0;34m\"Unknown date format: '%s'\"\u001b[0m \u001b[0;34m%\u001b[0m \u001b[0ms\u001b[0m\u001b[0;34m)\u001b[0m\u001b[0;34m\u001b[0m\u001b[0m\n\u001b[0m\u001b[1;32m     89\u001b[0m \u001b[0;34m\u001b[0m\u001b[0m\n\u001b[1;32m     90\u001b[0m \u001b[0;34m\u001b[0m\u001b[0m\n",
      "\u001b[0;31mValueError\u001b[0m: Unknown date format: 'registrar: wild west domains, llc'"
     ]
    }
   ],
   "source": [
    "for url in url_name[:10] :\n",
    "    print(url)\n",
    "    url =  url.split(\"/\")[0]\n",
    "    try : \n",
    "        batcmd= \"whois \" + url\n",
    "        result = subprocess.check_output(batcmd, shell=True)\n",
    "        \n",
    "    except : \n",
    "    re.findall('created:\\s.*\\n', result, re.M)    \n"
   ]
  },
  {
   "cell_type": "code",
   "execution_count": 304,
   "metadata": {},
   "outputs": [],
   "source": [
    "url = \"bringonthecats.com/2011/10/26/2517065/sen-manchin-d-wv-is-having-a-press-conference-6-pm-est-to-talk-wvu-to\"\n",
    "url = url.split(\"/\")[0]\n",
    "batcmd= \"whois \" + url \n",
    "result = subprocess.check_output(batcmd, shell=True)"
   ]
  },
  {
   "cell_type": "code",
   "execution_count": 305,
   "metadata": {
    "scrolled": true
   },
   "outputs": [
    {
     "name": "stdout",
     "output_type": "stream",
     "text": [
      "   Domain Name: BRINGONTHECATS.COM\n",
      "   Registry Domain ID: 1055000593_DOMAIN_COM-VRSN\n",
      "   Registrar WHOIS Server: whois.corporatedomains.com\n",
      "   Registrar URL: http://www.cscglobal.com/global/web/csc/digital-brand-services.html\n",
      "   Updated Date: 2018-06-25T05:35:31Z\n",
      "   Creation Date: 2007-06-29T05:24:34Z\n",
      "   Registry Expiry Date: 2019-06-29T05:24:34Z\n",
      "   Registrar: CSC Corporate Domains, Inc.\n",
      "   Registrar IANA ID: 299\n",
      "   Registrar Abuse Contact Email: domainabuse@cscglobal.com\n",
      "   Registrar Abuse Contact Phone: 8887802723\n",
      "   Domain Status: clientTransferProhibited https://icann.org/epp#clientTransferProhibited\n",
      "   Name Server: NS-1049.AWSDNS-03.ORG\n",
      "   Name Server: NS-1693.AWSDNS-19.CO.UK\n",
      "   Name Server: NS-257.AWSDNS-32.COM\n",
      "   Name Server: NS-974.AWSDNS-57.NET\n",
      "   Name Server: NS1.P16.DYNECT.NET\n",
      "   Name Server: NS2.P16.DYNECT.NET\n",
      "   Name Server: NS3.P16.DYNECT.NET\n",
      "   Name Server: NS4.P16.DYNECT.NET\n",
      "   DNSSEC: unsigned\n",
      "   URL of the ICANN Whois Inaccuracy Complaint Form: https://www.icann.org/wicf/\n",
      ">>> Last update of whois database: 2019-04-28T19:37:49Z <<<\n",
      "\n",
      "For more information on Whois status codes, please visit https://icann.org/epp\n",
      "\n",
      "NOTICE: The expiration date displayed in this record is the date the\n",
      "registrar's sponsorship of the domain name registration in the registry is\n",
      "currently set to expire. This date does not necessarily reflect the expiration\n",
      "date of the domain name registrant's agreement with the sponsoring\n",
      "registrar.  Users may consult the sponsoring registrar's Whois database to\n",
      "view the registrar's reported date of expiration for this registration.\n",
      "\n",
      "TERMS OF USE: You are not authorized to access or query our Whois\n",
      "database through the use of electronic processes that are high-volume and\n",
      "automated except as reasonably necessary to register domain names or\n",
      "modify existing registrations; the Data in VeriSign Global Registry\n",
      "Services' (\"VeriSign\") Whois database is provided by VeriSign for\n",
      "information purposes only, and to assist persons in obtaining information\n",
      "about or related to a domain name registration record. VeriSign does not\n",
      "guarantee its accuracy. By submitting a Whois query, you agree to abide\n",
      "by the following terms of use: You agree that you may use this Data only\n",
      "for lawful purposes and that under no circumstances will you use this Data\n",
      "to: (1) allow, enable, or otherwise support the transmission of mass\n",
      "unsolicited, commercial advertising or solicitations via e-mail, telephone,\n",
      "or facsimile; or (2) enable high volume, automated, electronic processes\n",
      "that apply to VeriSign (or its computer systems). The compilation,\n",
      "repackaging, dissemination or other use of this Data is expressly\n",
      "prohibited without the prior written consent of VeriSign. You agree not to\n",
      "use electronic processes that are automated and high-volume to access or\n",
      "query the Whois database except as reasonably necessary to register\n",
      "domain names or modify existing registrations. VeriSign reserves the right\n",
      "to restrict your access to the Whois database in its sole discretion to ensure\n",
      "operational stability.  VeriSign may restrict or terminate your access to the\n",
      "Whois database for failure to abide by these terms of use. VeriSign\n",
      "reserves the right to modify these terms at any time.\n",
      "\n",
      "The Registry database contains ONLY .COM, .NET, .EDU domains and\n",
      "Registrars.\n",
      "\n",
      "Domain Name: bringonthecats.com\n",
      "Registry Domain ID: 1055000593_DOMAIN_COM-VRSN\n",
      "Registrar WHOIS Server: whois.corporatedomains.com\n",
      "Registrar URL: www.cscprotectsbrands.com\n",
      "Updated Date: 2018-06-25T05:35:31Z\n",
      "Creation Date: 2007-06-29T05:24:34Z\n",
      "Registrar Registration Expiration Date: 2019-06-29T05:24:34Z\n",
      "Registrar: CSC CORPORATE DOMAINS, INC.\n",
      "Registrar IANA ID: 299\n",
      "Registrar Abuse Contact Email: domainabuse@cscglobal.com\n",
      "Registrar Abuse Contact Phone: +1.8887802723\n",
      "Domain Status: clientTransferProhibited http://www.icann.org/epp#clientTransferProhibited\n",
      "Registry Registrant ID: \n",
      "Registrant Name: Domain Administrator\n",
      "Registrant Organization: Vox Media, Inc.\n",
      "Registrant Street: 1201 Connecticut Avenue NW\n",
      "Registrant City: Washington\n",
      "Registrant State/Province: DC\n",
      "Registrant Postal Code: 20036\n",
      "Registrant Country: US\n",
      "Registrant Phone: +1.2025911140\n",
      "Registrant Phone Ext: \n",
      "Registrant Fax: +1.7039914516\n",
      "Registrant Fax Ext: \n",
      "Registrant Email: domain.names@voxmedia.com\n",
      "Registry Admin ID: \n",
      "Admin Name: Domain Administrator\n",
      "Admin Organization: Vox Media, Inc.\n",
      "Admin Street: 1201 Connecticut Avenue NW\n",
      "Admin City: Washington\n",
      "Admin State/Province: DC\n",
      "Admin Postal Code: 20036\n",
      "Admin Country: US\n",
      "Admin Phone: +1.2025911140\n",
      "Admin Phone Ext: \n",
      "Admin Fax: +1.7039914516\n",
      "Admin Fax Ext: \n",
      "Admin Email: domain.names@voxmedia.com\n",
      "Registry Tech ID: \n",
      "Tech Name: Domain Administrator\n",
      "Tech Organization: Vox Media, Inc.\n",
      "Tech Street: 1201 Connecticut Avenue NW\n",
      "Tech City: Washington\n",
      "Tech State/Province: DC\n",
      "Tech Postal Code: 20036\n",
      "Tech Country: US\n",
      "Tech Phone: +1.2025911140\n",
      "Tech Phone Ext: \n",
      "Tech Fax: +1.7039914516\n",
      "Tech Fax Ext: \n",
      "Tech Email: domain.names@voxmedia.com\n",
      "Name Server: ns-974.awsdns-57.net\n",
      "Name Server: ns4.p16.dynect.net\n",
      "Name Server: ns-1049.awsdns-03.org\n",
      "Name Server: ns2.p16.dynect.net\n",
      "Name Server: ns3.p16.dynect.net\n",
      "Name Server: ns-257.awsdns-32.com\n",
      "Name Server: ns1.p16.dynect.net\n",
      "Name Server: ns-1693.awsdns-19.co.uk\n",
      "DNSSEC: unsigned\n",
      "URL of the ICANN WHOIS Data Problem Reporting System: http://wdprs.internic.net/\n",
      ">>> Last update of WHOIS database: 2018-06-25T05:35:31Z <<<\n",
      "\n",
      "For more information on Whois status codes, please visit https://icann.org/epp\n",
      "\n",
      "Corporation Service Company(c) (CSC)  The Trusted Partner of More than 50% of the 100 Best Global Brands.\n",
      "\n",
      "Contact us to learn more about our enterprise solutions for Global Domain Name Registration and Management, Trademark Research and Watching, Brand, Logo and Auction Monitoring, as well SSL Certificate Services and DNS Hosting.\n",
      "\n",
      "NOTICE: You are not authorized to access or query our WHOIS database through the use of high-volume, automated, electronic processes or for the purpose or purposes of using the data in any manner that violates these terms of use. The Data in the CSC WHOIS database is provided by CSC for information purposes only, and to assist persons in obtaining information about or related to a domain name registration record. CSC does not guarantee its accuracy. By submitting a WHOIS query, you agree to abide by the following terms of use: you agree that you may use this Data only for lawful purposes and that under no circumstances will you use this Data to: (1) allow, enable, or otherwise support the transmission of mass unsolicited, commercial advertising or solicitations via direct mail, e-mail, telephone, or facsimile; or (2) enable high volume, automated, electronic processes that apply to CSC (or its computer systems). CSC reserves the right to terminate your access to the WHOIS database in its sole discretion for any violations by you of these terms of use. CSC reserves the right to modify these terms at any time.\n",
      "\n",
      "Register your domain name at http://www.cscglobal.com\n",
      "\n"
     ]
    }
   ],
   "source": [
    "result = result.decode(\"utf-8\")\n",
    "print(result)"
   ]
  },
  {
   "cell_type": "code",
   "execution_count": 306,
   "metadata": {},
   "outputs": [
    {
     "data": {
      "text/plain": [
       "['Creation Date: 2007-06-29T05:24:34Z\\n',\n",
       " 'Creation Date: 2007-06-29T05:24:34Z\\n']"
      ]
     },
     "execution_count": 306,
     "metadata": {},
     "output_type": "execute_result"
    }
   ],
   "source": [
    "re.findall('Creation Date:\\s.*\\n', result, re.M)\n"
   ]
  },
  {
   "cell_type": "code",
   "execution_count": 307,
   "metadata": {},
   "outputs": [
    {
     "data": {
      "text/plain": [
       "[]"
      ]
     },
     "execution_count": 307,
     "metadata": {},
     "output_type": "execute_result"
    }
   ],
   "source": [
    "re.findall('RegDate:\\s.*\\n', result, re.M)"
   ]
  },
  {
   "cell_type": "code",
   "execution_count": 308,
   "metadata": {},
   "outputs": [
    {
     "data": {
      "text/plain": [
       "['   Updated Date: 2018-06-25T05:35:31Z\\n',\n",
       " 'Updated Date: 2018-06-25T05:35:31Z\\n']"
      ]
     },
     "execution_count": 308,
     "metadata": {},
     "output_type": "execute_result"
    }
   ],
   "source": [
    "re.findall('.*Updated\\s.*\\n', result, re.M)"
   ]
  },
  {
   "cell_type": "code",
   "execution_count": 309,
   "metadata": {},
   "outputs": [
    {
     "data": {
      "text/plain": [
       "['Updated Date: 2018-06-25T05:35:31Z\\n',\n",
       " 'Updated Date: 2018-06-25T05:35:31Z\\n']"
      ]
     },
     "execution_count": 309,
     "metadata": {},
     "output_type": "execute_result"
    }
   ],
   "source": [
    "re.findall('Updated Date:\\s.*\\n', result, re.M)"
   ]
  },
  {
   "cell_type": "code",
   "execution_count": 310,
   "metadata": {},
   "outputs": [
    {
     "data": {
      "text/plain": [
       "['Registry Expiry Date: 2019-06-29T05:24:34Z\\n']"
      ]
     },
     "execution_count": 310,
     "metadata": {},
     "output_type": "execute_result"
    }
   ],
   "source": [
    "re.findall('Registry Expiry Date:\\s.*\\n', result, re.M)"
   ]
  },
  {
   "cell_type": "code",
   "execution_count": 311,
   "metadata": {},
   "outputs": [
    {
     "data": {
      "text/plain": [
       "[]"
      ]
     },
     "execution_count": 311,
     "metadata": {},
     "output_type": "execute_result"
    }
   ],
   "source": [
    "re.findall('expires.*\\n', result, re.M)"
   ]
  },
  {
   "cell_type": "code",
   "execution_count": 312,
   "metadata": {},
   "outputs": [
    {
     "data": {
      "text/plain": [
       "['Admin Country: US\\n']"
      ]
     },
     "execution_count": 312,
     "metadata": {},
     "output_type": "execute_result"
    }
   ],
   "source": [
    "re.findall('Admin Country:\\s.*\\n', result, re.M)"
   ]
  },
  {
   "cell_type": "code",
   "execution_count": 313,
   "metadata": {},
   "outputs": [
    {
     "data": {
      "text/plain": [
       "['Admin State/Province: DC\\n']"
      ]
     },
     "execution_count": 313,
     "metadata": {},
     "output_type": "execute_result"
    }
   ],
   "source": [
    "re.findall('Admin State/Province:\\s.*\\n', result, re.M)"
   ]
  },
  {
   "cell_type": "code",
   "execution_count": 314,
   "metadata": {},
   "outputs": [
    {
     "data": {
      "text/plain": [
       "['City: Washington\\n', 'City: Washington\\n', 'City: Washington\\n']"
      ]
     },
     "execution_count": 314,
     "metadata": {},
     "output_type": "execute_result"
    }
   ],
   "source": [
    "re.findall('City:\\s.*\\n', result, re.M)"
   ]
  },
  {
   "cell_type": "code",
   "execution_count": 315,
   "metadata": {},
   "outputs": [
    {
     "data": {
      "text/plain": [
       "[]"
      ]
     },
     "execution_count": 315,
     "metadata": {},
     "output_type": "execute_result"
    }
   ],
   "source": [
    "re.findall('created:\\s.*\\n', result, re.M)"
   ]
  },
  {
   "cell_type": "code",
   "execution_count": 316,
   "metadata": {},
   "outputs": [
    {
     "data": {
      "text/plain": [
       "[]"
      ]
     },
     "execution_count": 316,
     "metadata": {},
     "output_type": "execute_result"
    }
   ],
   "source": [
    "re.findall('last-modified:\\s.*\\n', result, re.M)"
   ]
  },
  {
   "cell_type": "code",
   "execution_count": 317,
   "metadata": {},
   "outputs": [
    {
     "data": {
      "text/plain": [
       "['Country: US\\n', 'Country: US\\n', 'Country: US\\n']"
      ]
     },
     "execution_count": 317,
     "metadata": {},
     "output_type": "execute_result"
    }
   ],
   "source": [
    "re.findall('[c,C]ountry:\\s.*\\n', result, re.M)"
   ]
  },
  {
   "cell_type": "code",
   "execution_count": 318,
   "metadata": {},
   "outputs": [],
   "source": [
    "dataset = pd.read_csv(\"final_data6.csv\")"
   ]
  },
  {
   "cell_type": "code",
   "execution_count": 319,
   "metadata": {},
   "outputs": [
    {
     "data": {
      "text/html": [
       "<div>\n",
       "<style scoped>\n",
       "    .dataframe tbody tr th:only-of-type {\n",
       "        vertical-align: middle;\n",
       "    }\n",
       "\n",
       "    .dataframe tbody tr th {\n",
       "        vertical-align: top;\n",
       "    }\n",
       "\n",
       "    .dataframe thead th {\n",
       "        text-align: right;\n",
       "    }\n",
       "</style>\n",
       "<table border=\"1\" class=\"dataframe\">\n",
       "  <thead>\n",
       "    <tr style=\"text-align: right;\">\n",
       "      <th></th>\n",
       "      <th>Unnamed: 0</th>\n",
       "      <th>Unnamed: 0.1</th>\n",
       "      <th>Unnamed: 0.1.1</th>\n",
       "      <th>Unnamed: 0.1.1.1</th>\n",
       "      <th>url</th>\n",
       "      <th>label</th>\n",
       "      <th>url_length</th>\n",
       "      <th>special_character_count</th>\n",
       "      <th>having_ip_address</th>\n",
       "      <th>dns_response_time</th>\n",
       "      <th>...</th>\n",
       "      <th>protocol</th>\n",
       "      <th>http_status_code</th>\n",
       "      <th>server_name</th>\n",
       "      <th>scripts_count</th>\n",
       "      <th>iframe_count</th>\n",
       "      <th>external_link_count</th>\n",
       "      <th>total_strings_count</th>\n",
       "      <th>average_string_length</th>\n",
       "      <th>max_len_strings</th>\n",
       "      <th>strings_above_avglength</th>\n",
       "    </tr>\n",
       "  </thead>\n",
       "  <tbody>\n",
       "    <tr>\n",
       "      <th>0</th>\n",
       "      <td>0</td>\n",
       "      <td>0</td>\n",
       "      <td>0</td>\n",
       "      <td>155439</td>\n",
       "      <td>twitter.com/aQuariusrecOrds</td>\n",
       "      <td>good</td>\n",
       "      <td>27</td>\n",
       "      <td>2</td>\n",
       "      <td>0</td>\n",
       "      <td>1.866579</td>\n",
       "      <td>...</td>\n",
       "      <td>https</td>\n",
       "      <td>200.0</td>\n",
       "      <td>tsa_k</td>\n",
       "      <td>8.0</td>\n",
       "      <td>6.0</td>\n",
       "      <td>73.0</td>\n",
       "      <td>26397.0</td>\n",
       "      <td>63.022881</td>\n",
       "      <td>46438.0</td>\n",
       "      <td>2436.0</td>\n",
       "    </tr>\n",
       "    <tr>\n",
       "      <th>1</th>\n",
       "      <td>1</td>\n",
       "      <td>1</td>\n",
       "      <td>1</td>\n",
       "      <td>152415</td>\n",
       "      <td>tong464.org/</td>\n",
       "      <td>good</td>\n",
       "      <td>12</td>\n",
       "      <td>2</td>\n",
       "      <td>0</td>\n",
       "      <td>654.555559</td>\n",
       "      <td>...</td>\n",
       "      <td>http</td>\n",
       "      <td>200.0</td>\n",
       "      <td>Apache</td>\n",
       "      <td>33.0</td>\n",
       "      <td>0.0</td>\n",
       "      <td>18.0</td>\n",
       "      <td>9289.0</td>\n",
       "      <td>11.865217</td>\n",
       "      <td>5491.0</td>\n",
       "      <td>2936.0</td>\n",
       "    </tr>\n",
       "    <tr>\n",
       "      <th>2</th>\n",
       "      <td>2</td>\n",
       "      <td>2</td>\n",
       "      <td>2</td>\n",
       "      <td>276521</td>\n",
       "      <td>legacy.com/obituaries/orlandosentinel/obituary...</td>\n",
       "      <td>good</td>\n",
       "      <td>92</td>\n",
       "      <td>12</td>\n",
       "      <td>0</td>\n",
       "      <td>57.567120</td>\n",
       "      <td>...</td>\n",
       "      <td>https</td>\n",
       "      <td>200.0</td>\n",
       "      <td>cloudflare</td>\n",
       "      <td>55.0</td>\n",
       "      <td>2.0</td>\n",
       "      <td>58.0</td>\n",
       "      <td>22093.0</td>\n",
       "      <td>44.528946</td>\n",
       "      <td>28934.0</td>\n",
       "      <td>4508.0</td>\n",
       "    </tr>\n",
       "    <tr>\n",
       "      <th>3</th>\n",
       "      <td>3</td>\n",
       "      <td>3</td>\n",
       "      <td>3</td>\n",
       "      <td>305692</td>\n",
       "      <td>natcath.org/ncr_onli.htm</td>\n",
       "      <td>good</td>\n",
       "      <td>24</td>\n",
       "      <td>3</td>\n",
       "      <td>0</td>\n",
       "      <td>1.390219</td>\n",
       "      <td>...</td>\n",
       "      <td>http</td>\n",
       "      <td>200.0</td>\n",
       "      <td>nginx/1.14.1</td>\n",
       "      <td>1.0</td>\n",
       "      <td>0.0</td>\n",
       "      <td>1.0</td>\n",
       "      <td>8.0</td>\n",
       "      <td>8.000000</td>\n",
       "      <td>8.0</td>\n",
       "      <td>0.0</td>\n",
       "    </tr>\n",
       "    <tr>\n",
       "      <th>4</th>\n",
       "      <td>4</td>\n",
       "      <td>4</td>\n",
       "      <td>5</td>\n",
       "      <td>165286</td>\n",
       "      <td>wn.com/San_Diego_State_Aztecs</td>\n",
       "      <td>good</td>\n",
       "      <td>29</td>\n",
       "      <td>2</td>\n",
       "      <td>0</td>\n",
       "      <td>1.077890</td>\n",
       "      <td>...</td>\n",
       "      <td>https</td>\n",
       "      <td>200.0</td>\n",
       "      <td>nginx</td>\n",
       "      <td>85.0</td>\n",
       "      <td>4.0</td>\n",
       "      <td>41.0</td>\n",
       "      <td>8248.0</td>\n",
       "      <td>12.376940</td>\n",
       "      <td>5491.0</td>\n",
       "      <td>2477.0</td>\n",
       "    </tr>\n",
       "  </tbody>\n",
       "</table>\n",
       "<p>5 rows × 24 columns</p>\n",
       "</div>"
      ],
      "text/plain": [
       "   Unnamed: 0  Unnamed: 0.1  Unnamed: 0.1.1  Unnamed: 0.1.1.1  \\\n",
       "0           0             0               0            155439   \n",
       "1           1             1               1            152415   \n",
       "2           2             2               2            276521   \n",
       "3           3             3               3            305692   \n",
       "4           4             4               5            165286   \n",
       "\n",
       "                                                 url label  url_length  \\\n",
       "0                        twitter.com/aQuariusrecOrds  good          27   \n",
       "1                                       tong464.org/  good          12   \n",
       "2  legacy.com/obituaries/orlandosentinel/obituary...  good          92   \n",
       "3                           natcath.org/ncr_onli.htm  good          24   \n",
       "4                      wn.com/San_Diego_State_Aztecs  good          29   \n",
       "\n",
       "   special_character_count  having_ip_address  dns_response_time  ...  \\\n",
       "0                        2                  0           1.866579  ...   \n",
       "1                        2                  0         654.555559  ...   \n",
       "2                       12                  0          57.567120  ...   \n",
       "3                        3                  0           1.390219  ...   \n",
       "4                        2                  0           1.077890  ...   \n",
       "\n",
       "   protocol  http_status_code   server_name scripts_count iframe_count  \\\n",
       "0     https             200.0         tsa_k           8.0          6.0   \n",
       "1      http             200.0        Apache          33.0          0.0   \n",
       "2     https             200.0    cloudflare          55.0          2.0   \n",
       "3      http             200.0  nginx/1.14.1           1.0          0.0   \n",
       "4     https             200.0         nginx          85.0          4.0   \n",
       "\n",
       "   external_link_count total_strings_count  average_string_length  \\\n",
       "0                 73.0             26397.0              63.022881   \n",
       "1                 18.0              9289.0              11.865217   \n",
       "2                 58.0             22093.0              44.528946   \n",
       "3                  1.0                 8.0               8.000000   \n",
       "4                 41.0              8248.0              12.376940   \n",
       "\n",
       "   max_len_strings  strings_above_avglength  \n",
       "0          46438.0                   2436.0  \n",
       "1           5491.0                   2936.0  \n",
       "2          28934.0                   4508.0  \n",
       "3              8.0                      0.0  \n",
       "4           5491.0                   2477.0  \n",
       "\n",
       "[5 rows x 24 columns]"
      ]
     },
     "execution_count": 319,
     "metadata": {},
     "output_type": "execute_result"
    }
   ],
   "source": [
    "dataset.head()"
   ]
  },
  {
   "cell_type": "code",
   "execution_count": 300,
   "metadata": {
    "scrolled": false
   },
   "outputs": [],
   "source": [
    "def whois_features(url):\n",
    "    url = url.split(\"/\")[0]\n",
    "\n",
    "    try :\n",
    "        batcmd= \"whois \" + url \n",
    "        result = subprocess.check_output(batcmd, shell=True)\n",
    "        result = result.decode(\"utf-8\")\n",
    "        \n",
    "        cd1 = re.findall('Creation Date:\\s.*\\n', result, re.M)\n",
    "        cd2 = re.findall('created:\\s.*\\n', result, re.M)\n",
    "        \n",
    "        if len(cd1) >= 1 :\n",
    "            c_date = cd1[0]\n",
    "        elif len(cd2) >=1 :\n",
    "            c_date = cd2[0]\n",
    "        else :\n",
    "            c_date  = \"cdate_not_available\"\n",
    "        \n",
    "        if c_date != \"cdate_not_available\" :\n",
    "            c_date = c_date.split(\": \")[1].strip()\n",
    "        \n",
    "        \n",
    "        rd2 = re.findall('expires.*\\n', result, re.M)\n",
    "        rd1 = re.findall('Registry Expiry Date:\\s.*\\n', result, re.M)\n",
    "        if len(rd1) >= 1 :\n",
    "            r_date = rd1[0]\n",
    "        elif len(rd2) >=1 :\n",
    "            r_date = rd2[0]\n",
    "        else :\n",
    "            r_date  = \"rdate_not_available\"\n",
    "        if r_date != \"rdate_not_available\" :\n",
    "            r_date = r_date.split(\": \")[1].strip()\n",
    "        \n",
    "\n",
    "        \n",
    "        ud1 = re.findall('Updated Date:\\s.*\\n', result, re.M)\n",
    "        ud2 = re.findall('.*Updated\\s.*\\n', result, re.M)\n",
    "        ud3 = re.findall('last-modified:\\s.*\\n', result, re.M)\n",
    "        if len(ud1) >= 1 :\n",
    "            u_date = ud1[0]\n",
    "        elif len(ud2) >=1 :\n",
    "            u_date = ud2[0]\n",
    "        elif len(ud3) >= 1:\n",
    "            u_date = ud3[0]\n",
    "        else :\n",
    "            u_date  = \"udate_not_available\"\n",
    "        \n",
    "        if u_date != \"udate_not_available\" :\n",
    "            u_date = u_date.split(\": \")[1].strip()\n",
    "        \n",
    "        con1 = re.findall('Admin Country:\\s.*\\n', result, re.M)\n",
    "        con2 = re.findall('[c,C]ountry:\\s.*\\n', result, re.M)\n",
    "        if len(con1) >= 1 :\n",
    "            con = con1[0]\n",
    "        elif len(rd2) >=1 :\n",
    "            con = con2[0]\n",
    "        else :\n",
    "            con  = \"country_not_available\"\n",
    "        if con != \"country_not_available\":\n",
    "            con  = con.split(\": \")[1].strip()\n",
    "            \n",
    "            \n",
    "                \n",
    "        st1 = re.findall('Admin State/Province:\\s.*\\n', result, re.M)\n",
    "        st2 = re.findall('City:\\s.*\\n', result, re.M)\n",
    "        if len(st1) >= 1 :\n",
    "            st = st1[0]\n",
    "        elif len(st2) >=1 :\n",
    "            st = st2[0]\n",
    "        else :\n",
    "            st  = \"state_not_available\"\n",
    "        if st !=  \"state_not_available\" :\n",
    "            st = st.split(\": \")[1].strip()\n",
    "            \n",
    "    except:\n",
    "        c_date = \"cdate_not_available\"\n",
    "        r_date = \"rdate_not_available\"\n",
    "        u_date = \"udate_not_available\"\n",
    "        con = \"country_not_available\"\n",
    "        st  = \"state_not_available\"\n",
    "\n",
    "        \n",
    "    return c_date , r_date , u_date , con , st\n",
    "\n",
    "\n",
    "        "
   ]
  },
  {
   "cell_type": "code",
   "execution_count": 322,
   "metadata": {},
   "outputs": [
    {
     "name": "stdout",
     "output_type": "stream",
     "text": [
      "1818\r"
     ]
    }
   ],
   "source": [
    "creation_date = []\n",
    "expiry_date = []\n",
    "last_updated = []\n",
    "country = []\n",
    "city = []\n",
    "i  = 0\n",
    "\n",
    "for url in url_name :\n",
    "    print(i, end = \"\\r\")\n",
    "    i = i + 1\n",
    "    c_date , r_date , u_date , con , st = whois_features(url)\n",
    "    creation_date.append(c_date)\n",
    "    expiry_date.append(r_date)\n",
    "    last_updated.append(u_date)\n",
    "    country.append(con)\n",
    "    city.append(st)\n",
    "dataset[\"whois_creation_date\"] = creation_date\n",
    "dataset[\"whois_expiry_date\"] = expiry_date\n",
    "dataset[\"whois_last_updated\"] = last_updated\n",
    "dataset[\"whois_country\"] = country\n",
    "dataset[\"whois_city\"] = city"
   ]
  },
  {
   "cell_type": "code",
   "execution_count": 323,
   "metadata": {},
   "outputs": [],
   "source": [
    "dataset.to_csv(\"final_data7.csv\" , index = False)"
   ]
  },
  {
   "cell_type": "code",
   "execution_count": null,
   "metadata": {},
   "outputs": [],
   "source": []
  }
 ],
 "metadata": {
  "kernelspec": {
   "display_name": "Python 3",
   "language": "python",
   "name": "python3"
  },
  "language_info": {
   "codemirror_mode": {
    "name": "ipython",
    "version": 3
   },
   "file_extension": ".py",
   "mimetype": "text/x-python",
   "name": "python",
   "nbconvert_exporter": "python",
   "pygments_lexer": "ipython3",
   "version": "3.6.5"
  }
 },
 "nbformat": 4,
 "nbformat_minor": 2
}
